{
  "nbformat": 4,
  "nbformat_minor": 0,
  "metadata": {
    "colab": {
      "provenance": []
    },
    "kernelspec": {
      "name": "python3",
      "display_name": "Python 3"
    },
    "language_info": {
      "name": "python"
    }
  },
  "cells": [
    {
      "cell_type": "markdown",
      "source": [
        "# **THEORY QUESTIONS**"
      ],
      "metadata": {
        "id": "I9wi7pvtisd6"
      }
    },
    {
      "cell_type": "markdown",
      "source": [
        "**1. What are data structures, and why are they important?**\n",
        "\n",
        "Ans: Data structure is a way of organising and storing data so that it can be access and manipulated efficiently. Types of data structure are: List, tuple, dict,set etc.\n",
        "\n",
        "They are important because:\n",
        "\n",
        "* It can efficiently handle data by choosing the right data structure.\n",
        "* Python's high-level data structure let us write simpler and more expressive code.\n",
        "\n",
        "*  Python's data structures come with many useful methods (eg, append(), pop(), update(), keys()) that make complex operations easy\n",
        "\n",
        "*  Conserve memory usage\n",
        "*  Choosing the right data structure significantly impacts the efficiency and performance of your program.\n",
        "\n",
        "\n",
        "*  Data structures are key for tasks like sorting, searching and grouping data.\n",
        "\n",
        "\n",
        "\n"
      ],
      "metadata": {
        "id": "6Xvjl9Spi0P1"
      }
    },
    {
      "cell_type": "markdown",
      "source": [
        "**2.  Explain the difference between mutable and immutable data types with examples**\n",
        "\n",
        "Ans: Those data types whose values can be changed after creation are known as mutable data type whereas, in immutable data type, values cannot be changed after creation. In mutable data type, we can add, remove or change elements without changing the object's identity but in immutable data type, if we want to change them, then we have to create a new objects.\n",
        "\n",
        "Example of mutable data type are : list, dict, set etc.\n",
        "my_list=[1,2,3]\n",
        "my_list.append(4)\n",
        "print(my_list)\n",
        "\n",
        "Example of immutable data type are: int, float, str etc.\n",
        "my_string=\"hello\"\n",
        "new_string= my_string.replace('h','j')\n",
        "print(my_string)\n",
        "print(new_string)"
      ],
      "metadata": {
        "id": "gSvi07VfmrE-"
      }
    },
    {
      "cell_type": "markdown",
      "source": [
        "**3. What are the main differences between lists and tuples in Python?**\n",
        "\n",
        "Ans: The main difference between lists and tuples in Python are that:\n",
        "* Lists are mutable and tuples are immutable ie we can change, add or remove elements after list is created but once tuples are created, we change, add or remove element from it.\n",
        "* Lists use square brackets []; tuples use parenthese().\n",
        "* Tuples can be used as keys in dictionaries; lists cannot."
      ],
      "metadata": {
        "id": "27Gew_bYpv6K"
      }
    },
    {
      "cell_type": "markdown",
      "source": [
        "**4.Describe how dictionaries store data?**\n",
        "\n",
        "Ans: In python, dictionaries store data as a collection of key-value pairs. Internally, they use a tructure called a hash table to make data retrieval very fast.\n",
        "Here, how it works:\n",
        "* Each key you add to the dictionary is processed by a hash function, which converts it into a hash code.\n",
        "* This hash code determines where in memory the corresponding value will be stored.\n",
        "* When you look up a key, Python hashes the key again and quickly jumps to the right location to find the value."
      ],
      "metadata": {
        "id": "WHKsN8LurdtR"
      }
    },
    {
      "cell_type": "markdown",
      "source": [
        "**5. Why might you use a set instead of a list in Python?**\n",
        "\n",
        "Ans: Set is used in Python insetad of a lists for various reasons:\n",
        "\n",
        "* Sets stores only unique items as it automatically remove duplicates.\n",
        "* As sets are hashable, it checks existing value much faster than list.\n",
        "* Sets are unordered, so they are simpler and more efficient."
      ],
      "metadata": {
        "id": "ife0_eVFzrZU"
      }
    },
    {
      "cell_type": "markdown",
      "source": [
        "**6.What is a string in Python, and how is it different from a list?**\n",
        "\n",
        "Ans: String is sequence of character which helps to represents and manipulate textual data. String is immutable ie once it is created their characters cannot be changed directly.\n",
        "\n",
        "Lists is a sequence of elements. It is mutable ie it can be add, remove or change elements."
      ],
      "metadata": {
        "id": "cGMlFpwCz0yw"
      }
    },
    {
      "cell_type": "markdown",
      "source": [
        "**7. How do tuples ensure data integrity in Python?**\n",
        "\n",
        "Ans: Tuples help ensure data integrity in Python mainly through immutability.\n",
        "\n",
        "* Tuple are immutable, which means we cannot change, remove or modify its contents which represents fixed collections like coordinates, configuration data or constant values.\n",
        "* As tuples are immutable, they are hashable, so they can be safely used as keys in dictionaries or elements in sets.\n"
      ],
      "metadata": {
        "id": "4mdE9_u-z71U"
      }
    },
    {
      "cell_type": "markdown",
      "source": [
        "**8.What is a hash table, and how does it relate to dictionaries in Python?**\n",
        "\n",
        "Ans: A hash table is a data stucture used to store key-value pairs in a way that makes data retrieval very fast.\n",
        "\n",
        "Here's, how it relates to dictionaries in Python:\n",
        "* **Hashing**: When you add a key to dictionary, Python runs the key through a hash function, which turns it into an integer called a hash value.\n",
        "* **Storage**: The hash value determines where in memory the value associated with the key will be stored inside the hash table.\n",
        "* **Lookup**: When you lookup a key, Python hashes the key again, finds the corresponding bucket quickly and retrieves the value instead of searching each item one by one like in a list.\n"
      ],
      "metadata": {
        "id": "lny8PPPr3fEI"
      }
    },
    {
      "cell_type": "markdown",
      "source": [
        "**9. Can lists contain different data types in Python?**\n",
        "\n",
        "Ans: Yes, lists can contain different data types in Python as they are very flexible. This means we can combine numbers, strings, booleans, float, other lists or even complex objects all together.\n",
        "This ability to mix data types makes lists very powerful and convenient for representing complex data structures or grouping related information without worrying about type restrictions."
      ],
      "metadata": {
        "id": "kAK6j64n3fdp"
      }
    },
    {
      "cell_type": "markdown",
      "source": [
        "**10.Explain why strings are immutable in Python?**\n",
        "\n",
        "\n",
        "Ans: In python, strings are immutable because once a string is created, its contents cannot be changed directly. The main reasons are:\n",
        "\n",
        "\n",
        "\n",
        "* Immutable objects can be stored and shared safely in memory without worrying about unexpected changes, which helps optimize performance,especially when strings are used as keys in dictonaries.\n",
        "* Since strings are used frequently in programs, immutability prevents accidental modification that could lead to  bugs.\n",
        "* Being immutable makes string hashable.\n",
        "\n",
        "\n",
        "\n"
      ],
      "metadata": {
        "id": "Oq0EKZBx3fy5"
      }
    },
    {
      "cell_type": "markdown",
      "source": [
        "**11. What advantages do dictionaries offer over lists for certain tasks?**\n",
        "\n",
        "Ans: Dictionaries in Python offer several advantages over lists for certain tasks, mainly because of how they store and access data.\n",
        "\n",
        "* Dictionaries use hashing to store key-value pairs, which allows them to retrieve values by key in roughly constant time. Whereas, lists requires scanning elements one by one to find a value, which takes linear time.\n",
        "\n",
        "* Dictionaries let you store and access data using meaningful keys which makes the code clearer and easier to read. But in list, it uses numeric indices, which can be less intuitive, especially when dealing with complex data.\n",
        "* Dictionaries are ideal when each item has multiple associated attributes whereas, list alone would require nested structures to store such information, which can be harder to manage.\n",
        "\n",
        "\n"
      ],
      "metadata": {
        "id": "A4TwpTIu7M8i"
      }
    },
    {
      "cell_type": "markdown",
      "source": [
        "**12. Describe a scenario where using a tuple would be preferable over a list?**\n",
        "\n",
        "Ans:Suppose we need a system to track historical currency exchange rates between two currencies on a given day. For each records, we need to store:\n",
        "\n",
        "*  the date of the rate\n",
        "*  the source currency\n",
        "*  the target currency\n",
        "*  the exchange rate of that day\n",
        "\n",
        "Here is the reason why tuples would be prefeable:\n",
        "\n",
        "* Each records are immutable- historical data should not be accidentally edited.\n",
        "* Tuples help signal that the length and structure of each records is fixed: data, from currency, to currency, rate.\n",
        "* Tuples can be used in sets or as dictonary keys if we need to index them.\n",
        "\n"
      ],
      "metadata": {
        "id": "l7DE5Ehn7Ndf"
      }
    },
    {
      "cell_type": "markdown",
      "source": [
        "**13.How do sets handle duplicate values in Python?**\n",
        "\n",
        "Ans: Sets in python, automatically remove duplicate values. A set is an unordered collection of unique, immutable elements. When you create a set, or add elements to it, any duplicate elements are ignored, only one copy of each unique element is kept.\n",
        "\n",
        "For example: numbers={1,2,2,3,4,5,5,5,6,4,5}\n",
        "             print(numbers)\n",
        "             Output: {1,2,3,4,5,6}"
      ],
      "metadata": {
        "id": "VhAhoKG17Nre"
      }
    },
    {
      "cell_type": "markdown",
      "source": [
        "**14. How does the “in” keyword work differently for lists and dictionaries?**\n",
        "\n",
        "Ans: In lists, it checks whether a specific value exists in the list, whereas in dictionaries, it checks whether a specific key is present in the dictionary.\n",
        "\n"
      ],
      "metadata": {
        "id": "jJ2w_te67Pm0"
      }
    },
    {
      "cell_type": "markdown",
      "source": [
        "**15. Can you modify the elements of a tuple? Explain why or why not?**\n",
        "\n",
        "Ans: No, we cannot modify the elements of a tuples as tuples are immutable. Onces a tuple is created, its elements cannot be changed, added or removed. Immutability makes tuples hashable, which allows them to be used as keys in dictionaries and elements in sets."
      ],
      "metadata": {
        "id": "P_FDZY7Q7P3H"
      }
    },
    {
      "cell_type": "markdown",
      "source": [
        "**16. What is a nested dictionary, and give an example of its use case?**\n",
        "\n",
        "Ans: A nested dictionary in Python is simply a dictionary inside another dictionary. It lets you store more complex data as having a mini-dictionary as a value for a key.\n",
        "\n",
        "Nested dictionaries are useful when you need to store related data belongs together. For example:\n",
        "\n",
        "* Storing information about multiple users/accounts in an app.\n",
        "* Storing inventory where each products has details like price, quantity and description.\n",
        "* Managing settings or configurations with multiple categories."
      ],
      "metadata": {
        "id": "Ib5F6VXn7QCv"
      }
    },
    {
      "cell_type": "markdown",
      "source": [
        "**17. Describe the time complexity of accessing elements in a dictionary?**\n",
        "\n",
        "Ans:In python, accessing a value by key in a dictionary is typically very fast o(1) ie constant time. This means it usually takes the same amount of time, no matter how big the dictionary is. This is been done by hash table."
      ],
      "metadata": {
        "id": "Lq9PxPC57QNS"
      }
    },
    {
      "cell_type": "markdown",
      "source": [
        "**18. In what situations are lists preferred over dictionaries?**\n",
        "\n",
        "Ans: Lists are generally preferred over dictionaries when:\n",
        "\n",
        "* We only need to store values, not key-value pair.\n",
        "* Lists maintain the oredr of insertion and you can have repeated items.\n",
        "* For tasks like sorting, slicing or iterating by position, lists are simpler and more efficient.\n",
        "\n"
      ],
      "metadata": {
        "id": "MrHZjFwp7QXc"
      }
    },
    {
      "cell_type": "markdown",
      "source": [
        "**19. Why are dictionaries considered unordered, and how does that affect data retrieval?**\n",
        "\n",
        "Ans: Dictionaries are considered unordered because they store data by keys, not by position. This means you can't get items by index like in a list, you always access them by their keys."
      ],
      "metadata": {
        "id": "xqjUVeO77Qh-"
      }
    },
    {
      "cell_type": "markdown",
      "source": [
        "**20.  Explain the difference between a list and a dictionary in terms of data retrieval.**\n",
        "\n",
        "Ans: The difference between a list and a dictionary in terms of data retrieval are:\n",
        "\n",
        "**LISTS:**\n",
        "* Data is retrieved by position/ index.\n",
        "* The index is always an integer starting from 0.\n",
        "* To find out whether an item exists in a list, Python may need to check each element one by one.\n",
        "\n",
        "**DICTIONARIES:**\n",
        "* Data is retrieved by a key.\n",
        "* Keys can be strings, numbers or other immutable, hashable values.\n",
        "* Dictionary lookup uses a hash table, so finding the value for a given key is usually very fast.\n",
        "\n",
        "\n"
      ],
      "metadata": {
        "id": "CdpvqBTn7QsY"
      }
    },
    {
      "cell_type": "markdown",
      "source": [
        "# **PRACTICAL QUESTIONS**"
      ],
      "metadata": {
        "id": "FMYd2CArLj0J"
      }
    },
    {
      "cell_type": "markdown",
      "source": [
        "**1. Write a code to create a string with your name and print it.**"
      ],
      "metadata": {
        "id": "B2-g81qrLrre"
      }
    },
    {
      "cell_type": "code",
      "source": [
        "my_name=\"Dona Acharjee\"\n",
        "print(my_name)"
      ],
      "metadata": {
        "colab": {
          "base_uri": "https://localhost:8080/"
        },
        "id": "Y6DW9dwJMI7o",
        "outputId": "0b99a004-2475-4c45-cfe9-530fc05df025"
      },
      "execution_count": 28,
      "outputs": [
        {
          "output_type": "stream",
          "name": "stdout",
          "text": [
            "Dona Acharjee\n"
          ]
        }
      ]
    },
    {
      "cell_type": "markdown",
      "source": [
        "**2. Write a code to find the length of the string \"Hello World\".**"
      ],
      "metadata": {
        "id": "r2TuN-g0MJ7u"
      }
    },
    {
      "cell_type": "code",
      "source": [
        "x=\"HelloWorld\"\n",
        "print(len(x))"
      ],
      "metadata": {
        "colab": {
          "base_uri": "https://localhost:8080/"
        },
        "id": "siQx_cWpMXjw",
        "outputId": "e43dc50e-a06e-467a-e6fc-20f526062fce"
      },
      "execution_count": 1,
      "outputs": [
        {
          "output_type": "stream",
          "name": "stdout",
          "text": [
            "10\n"
          ]
        }
      ]
    },
    {
      "cell_type": "markdown",
      "source": [
        "**3. Write a code to slice the first 3 characters from the string \"Python Programming\".**"
      ],
      "metadata": {
        "id": "DPY-7heMMYUi"
      }
    },
    {
      "cell_type": "code",
      "source": [
        "text=\"Python Programming\"\n",
        "slice=text[:3]\n",
        "print(slice)"
      ],
      "metadata": {
        "colab": {
          "base_uri": "https://localhost:8080/"
        },
        "id": "hdtDSwnsMkxK",
        "outputId": "a9cab1e4-b8f9-46b7-e385-8b048037599f"
      },
      "execution_count": 29,
      "outputs": [
        {
          "output_type": "stream",
          "name": "stdout",
          "text": [
            "Pyt\n"
          ]
        }
      ]
    },
    {
      "cell_type": "markdown",
      "source": [
        "**4. Write a code to convert the string \"hello\" to uppercase.**"
      ],
      "metadata": {
        "id": "dicAMJtrMlNF"
      }
    },
    {
      "cell_type": "code",
      "source": [
        "name= \"hello\"\n",
        "print(name.upper())"
      ],
      "metadata": {
        "colab": {
          "base_uri": "https://localhost:8080/"
        },
        "id": "wFBZjsl-MzOa",
        "outputId": "5a4729d8-6fad-4cc7-be9f-a1efa19e3200"
      },
      "execution_count": 1,
      "outputs": [
        {
          "output_type": "stream",
          "name": "stdout",
          "text": [
            "HELLO\n"
          ]
        }
      ]
    },
    {
      "cell_type": "markdown",
      "source": [
        "**5. Write a code to replace the word \"apple\" with \"orange\" in the string \"I like apple\".**"
      ],
      "metadata": {
        "id": "Xe1q2ULbMzuY"
      }
    },
    {
      "cell_type": "code",
      "source": [
        "text=\"I like apple\"\n",
        "new_text=text.replace(\"apple\",\"orange\")\n",
        "print(new_text)"
      ],
      "metadata": {
        "colab": {
          "base_uri": "https://localhost:8080/"
        },
        "id": "mZISZXvNNA4W",
        "outputId": "693dfea5-585b-4874-cfca-d5a4bf369c8f"
      },
      "execution_count": 2,
      "outputs": [
        {
          "output_type": "stream",
          "name": "stdout",
          "text": [
            "I like orange\n"
          ]
        }
      ]
    },
    {
      "cell_type": "markdown",
      "source": [
        "**6. Write a code to create a list with numbers 1 to 5 and print it.**"
      ],
      "metadata": {
        "id": "mWr3kP3GNBO-"
      }
    },
    {
      "cell_type": "code",
      "source": [
        "numbers=[1,2,3,4,5]\n",
        "print(numbers)"
      ],
      "metadata": {
        "colab": {
          "base_uri": "https://localhost:8080/"
        },
        "id": "nQuFc0nvNI5R",
        "outputId": "9d5f203a-c704-4300-922d-7eee83c44ff5"
      },
      "execution_count": 3,
      "outputs": [
        {
          "output_type": "stream",
          "name": "stdout",
          "text": [
            "[1, 2, 3, 4, 5]\n"
          ]
        }
      ]
    },
    {
      "cell_type": "markdown",
      "source": [
        "**7. Write a code to append the number 10 to the list [1, 2, 3, 4].**"
      ],
      "metadata": {
        "id": "W3hCMLjmNJTd"
      }
    },
    {
      "cell_type": "code",
      "source": [
        "numbers=[1,2,3,4]\n",
        "numbers.append(10)\n",
        "print(numbers)"
      ],
      "metadata": {
        "colab": {
          "base_uri": "https://localhost:8080/"
        },
        "id": "E_tZWekUNT0J",
        "outputId": "72b94a4b-6ca5-4c8e-8535-fb66b7222315"
      },
      "execution_count": 5,
      "outputs": [
        {
          "output_type": "stream",
          "name": "stdout",
          "text": [
            "[1, 2, 3, 4, 10]\n"
          ]
        }
      ]
    },
    {
      "cell_type": "markdown",
      "source": [
        "**8. Write a code to remove the number 3 from the list [1, 2, 3, 4, 5].**"
      ],
      "metadata": {
        "id": "XRFQcupdNUHR"
      }
    },
    {
      "cell_type": "code",
      "source": [
        "numbers=[1,2,3,4,5]\n",
        "numbers.remove(3)\n",
        "print(numbers)"
      ],
      "metadata": {
        "colab": {
          "base_uri": "https://localhost:8080/"
        },
        "id": "uXqjyjOeNb-n",
        "outputId": "4ba4e4a6-417d-485c-c4f8-e8262cb9d68d"
      },
      "execution_count": 6,
      "outputs": [
        {
          "output_type": "stream",
          "name": "stdout",
          "text": [
            "[1, 2, 4, 5]\n"
          ]
        }
      ]
    },
    {
      "cell_type": "markdown",
      "source": [
        "**9.  Write a code to access the second element in the list ['a', 'b', 'c', 'd'].**"
      ],
      "metadata": {
        "id": "aCOPDVrLNckR"
      }
    },
    {
      "cell_type": "code",
      "source": [
        "letters=['a','b','c','d']\n",
        "print(letters[1])"
      ],
      "metadata": {
        "colab": {
          "base_uri": "https://localhost:8080/"
        },
        "id": "vOJ42h5tNmL2",
        "outputId": "854fe33b-4d31-4431-d22e-f2ab11171815"
      },
      "execution_count": 4,
      "outputs": [
        {
          "output_type": "stream",
          "name": "stdout",
          "text": [
            "b\n"
          ]
        }
      ]
    },
    {
      "cell_type": "markdown",
      "source": [
        "**10. Write a code to reverse the list [10, 20, 30, 40, 50].**"
      ],
      "metadata": {
        "id": "g3P6IgYINmk3"
      }
    },
    {
      "cell_type": "code",
      "source": [
        "numbers=[10,20,30,40,50]\n",
        "numbers.reverse()\n",
        "print(numbers)\n"
      ],
      "metadata": {
        "colab": {
          "base_uri": "https://localhost:8080/"
        },
        "id": "htn8N64pNsgz",
        "outputId": "a8e6c093-08cd-4e48-c2ca-6a888269e0af"
      },
      "execution_count": 7,
      "outputs": [
        {
          "output_type": "stream",
          "name": "stdout",
          "text": [
            "[50, 40, 30, 20, 10]\n"
          ]
        }
      ]
    },
    {
      "cell_type": "markdown",
      "source": [
        "**11. Write a code to create a tuple with the elements 100, 200, 300 and print it.**"
      ],
      "metadata": {
        "id": "zMkfpnENNsuo"
      }
    },
    {
      "cell_type": "code",
      "source": [
        "numbers=[100,200,300]\n",
        "print(numbers)"
      ],
      "metadata": {
        "id": "6YxNR9xCNh65"
      },
      "execution_count": null,
      "outputs": []
    },
    {
      "cell_type": "markdown",
      "source": [
        "**12. Write a code to access the second-to-last element of the tuple ('red', 'green', 'blue', 'yellow').**"
      ],
      "metadata": {
        "id": "LPc1GmglN1Fg"
      }
    },
    {
      "cell_type": "code",
      "source": [
        "colors=('red','green','blue','yellow')\n",
        "print(colors[-2])"
      ],
      "metadata": {
        "colab": {
          "base_uri": "https://localhost:8080/"
        },
        "id": "ADqTfF4ON7qv",
        "outputId": "07d15db2-9004-46f7-80da-32b4c2a88da4"
      },
      "execution_count": 8,
      "outputs": [
        {
          "output_type": "stream",
          "name": "stdout",
          "text": [
            "blue\n"
          ]
        }
      ]
    },
    {
      "cell_type": "markdown",
      "source": [
        "**13. Write a code to find the minimum number in the tuple (10, 20, 5, 15).**"
      ],
      "metadata": {
        "id": "eyVBlxCRN73R"
      }
    },
    {
      "cell_type": "code",
      "source": [
        "numbers=(10,20,5,15)\n",
        "print(min(numbers))"
      ],
      "metadata": {
        "colab": {
          "base_uri": "https://localhost:8080/"
        },
        "id": "5dhV0O_POFGZ",
        "outputId": "bf32a55e-53d8-46b0-c5e6-fdeb879e6c54"
      },
      "execution_count": 9,
      "outputs": [
        {
          "output_type": "stream",
          "name": "stdout",
          "text": [
            "5\n"
          ]
        }
      ]
    },
    {
      "cell_type": "markdown",
      "source": [
        "**14.  Write a code to find the index of the element \"cat\" in the tuple ('dog', 'cat', 'rabbit').**"
      ],
      "metadata": {
        "id": "UAIwKd2FOFcg"
      }
    },
    {
      "cell_type": "code",
      "source": [
        "animals=('dog','cat','rabbit')\n",
        "print(animals.index('cat'))"
      ],
      "metadata": {
        "colab": {
          "base_uri": "https://localhost:8080/"
        },
        "id": "1dYQxYjEOML3",
        "outputId": "f9fdb243-632f-4442-ebaa-ab62d046ced5"
      },
      "execution_count": 10,
      "outputs": [
        {
          "output_type": "stream",
          "name": "stdout",
          "text": [
            "1\n"
          ]
        }
      ]
    },
    {
      "cell_type": "markdown",
      "source": [
        "**15.  Write a code to create a tuple containing three different fruits and check if \"kiwi\" is in it.**"
      ],
      "metadata": {
        "id": "YeGbCrS-OMdI"
      }
    },
    {
      "cell_type": "code",
      "source": [
        "fruits=(\"apple\",\"banana\",\"guava\")\n",
        "print(\"kiwi\" in fruits)"
      ],
      "metadata": {
        "colab": {
          "base_uri": "https://localhost:8080/"
        },
        "id": "C5GFsyFvOT0x",
        "outputId": "1619579e-9f2c-426b-93f5-89711f565c0f"
      },
      "execution_count": 41,
      "outputs": [
        {
          "output_type": "stream",
          "name": "stdout",
          "text": [
            "False\n"
          ]
        }
      ]
    },
    {
      "cell_type": "markdown",
      "source": [
        "**16.  Write a code to create a set with the elements 'a', 'b', 'c' and print it.**"
      ],
      "metadata": {
        "id": "BvxmvkgIOUDP"
      }
    },
    {
      "cell_type": "code",
      "source": [
        "my_set={'a','b','c'}\n",
        "print(my_set)"
      ],
      "metadata": {
        "colab": {
          "base_uri": "https://localhost:8080/"
        },
        "id": "-MQD0SuiOfA3",
        "outputId": "e2475d99-587d-44e1-c020-3878448d9803"
      },
      "execution_count": 37,
      "outputs": [
        {
          "output_type": "stream",
          "name": "stdout",
          "text": [
            "{'c', 'b', 'a'}\n"
          ]
        }
      ]
    },
    {
      "cell_type": "markdown",
      "source": [
        "**17. Write a code to clear all elements from the set {1, 2, 3, 4, 5}.**"
      ],
      "metadata": {
        "id": "hFfMCh4oOfbQ"
      }
    },
    {
      "cell_type": "code",
      "source": [
        "numbers={1,2,3,4,5}\n",
        "numbers.clear()\n",
        "print(numbers)"
      ],
      "metadata": {
        "colab": {
          "base_uri": "https://localhost:8080/"
        },
        "id": "et9UDVCEOpxj",
        "outputId": "6d5dd2fe-f357-4b89-c923-fe561b78f042"
      },
      "execution_count": 11,
      "outputs": [
        {
          "output_type": "stream",
          "name": "stdout",
          "text": [
            "set()\n"
          ]
        }
      ]
    },
    {
      "cell_type": "markdown",
      "source": [
        "**18.  Write a code to remove the element 4 from the set {1, 2, 3, 4}.**"
      ],
      "metadata": {
        "id": "4D4_x7p6OqC4"
      }
    },
    {
      "cell_type": "code",
      "source": [
        "numbers={1,2,3,4}\n",
        "numbers.remove(4)\n",
        "print(numbers)"
      ],
      "metadata": {
        "colab": {
          "base_uri": "https://localhost:8080/"
        },
        "id": "TOsuS1yLOy2_",
        "outputId": "ab838155-d61a-4dea-d054-ed0b37f30936"
      },
      "execution_count": 12,
      "outputs": [
        {
          "output_type": "stream",
          "name": "stdout",
          "text": [
            "{1, 2, 3}\n"
          ]
        }
      ]
    },
    {
      "cell_type": "markdown",
      "source": [
        "**19.  Write a code to find the union of two sets {1, 2, 3} and {3, 4, 5}.**"
      ],
      "metadata": {
        "id": "c8FxIetjOzLK"
      }
    },
    {
      "cell_type": "code",
      "source": [
        "x={1,2,3}\n",
        "y={3,4,5}\n",
        "print(x.union(y))\n"
      ],
      "metadata": {
        "colab": {
          "base_uri": "https://localhost:8080/"
        },
        "id": "3tYi94uQO8wn",
        "outputId": "e20d2072-6aa3-4597-a993-60ca9ee82e98"
      },
      "execution_count": 13,
      "outputs": [
        {
          "output_type": "stream",
          "name": "stdout",
          "text": [
            "{1, 2, 3, 4, 5}\n"
          ]
        }
      ]
    },
    {
      "cell_type": "markdown",
      "source": [
        "**20.  Write a code to find the intersection of two sets {1, 2, 3} and {2, 3, 4}.**"
      ],
      "metadata": {
        "id": "5cekDyY7O8-a"
      }
    },
    {
      "cell_type": "code",
      "source": [
        "x={1,2,3}\n",
        "y={2,3,4}\n",
        "print(x.intersection(y))"
      ],
      "metadata": {
        "colab": {
          "base_uri": "https://localhost:8080/"
        },
        "id": "Q_L5DudVPEG7",
        "outputId": "31f1d46d-77e9-40c8-cdb5-6201d970dd14"
      },
      "execution_count": 14,
      "outputs": [
        {
          "output_type": "stream",
          "name": "stdout",
          "text": [
            "{2, 3}\n"
          ]
        }
      ]
    },
    {
      "cell_type": "markdown",
      "source": [
        "**21.  Write a code to create a dictionary with the keys \"name\", \"age\", and \"city\", and print it.**"
      ],
      "metadata": {
        "id": "sx_YIXUWPEi_"
      }
    },
    {
      "cell_type": "code",
      "source": [
        "name=\"Dona\"\n",
        "age=22\n",
        "city=\"Mumbai\"\n",
        "print(name)\n",
        "print(age)\n",
        "print(city)"
      ],
      "metadata": {
        "colab": {
          "base_uri": "https://localhost:8080/"
        },
        "id": "79PHZ59qPLvf",
        "outputId": "501c5321-de6b-4481-f375-8b190ee5b4a6"
      },
      "execution_count": 16,
      "outputs": [
        {
          "output_type": "stream",
          "name": "stdout",
          "text": [
            "Dona\n",
            "22\n",
            "Mumbai\n"
          ]
        }
      ]
    },
    {
      "cell_type": "markdown",
      "source": [
        "**22.  Write a code to add a new key-value pair \"country\": \"USA\" to the dictionary {'name': 'John', 'age': 25}.**"
      ],
      "metadata": {
        "id": "mClJEqJtPL7T"
      }
    },
    {
      "cell_type": "code",
      "source": [
        "x={\"name\":\"John\", \"age\":25}\n",
        "x[\"country\"]=\"USA\"\n",
        "print(x)"
      ],
      "metadata": {
        "colab": {
          "base_uri": "https://localhost:8080/"
        },
        "id": "g-dO4ECGPScb",
        "outputId": "d76336a3-f6c5-4f63-9441-fbd1cca2139f"
      },
      "execution_count": 21,
      "outputs": [
        {
          "output_type": "stream",
          "name": "stdout",
          "text": [
            "{'name': 'John', 'age': 25, 'country': 'USA'}\n"
          ]
        }
      ]
    },
    {
      "cell_type": "markdown",
      "source": [
        "**23.  Write a code to access the value associated with the key \"name\" in the dictionary {'name': 'Alice', 'age': 30}.**"
      ],
      "metadata": {
        "id": "rNe2EEpMPS5f"
      }
    },
    {
      "cell_type": "code",
      "source": [
        "a={\"name\":\"Alice\",\"age\":30}\n",
        "b=a[\"name\"]\n",
        "print(b)"
      ],
      "metadata": {
        "colab": {
          "base_uri": "https://localhost:8080/"
        },
        "id": "aSdqimrFPbCx",
        "outputId": "773af5b0-41b8-4a0e-9225-ec142de6d7ba"
      },
      "execution_count": 23,
      "outputs": [
        {
          "output_type": "stream",
          "name": "stdout",
          "text": [
            "Alice\n"
          ]
        }
      ]
    },
    {
      "cell_type": "markdown",
      "source": [
        "**24.  Write a code to remove the key \"age\" from the dictionary {'name': 'Bob', 'age': 22, 'city': 'New York'}.**"
      ],
      "metadata": {
        "id": "jx86PjTvPbRb"
      }
    },
    {
      "cell_type": "code",
      "source": [
        "x= {'name': 'Bob', 'age': 22, 'city': 'New York'}.pop(\"age\")\n",
        "print(x)\n"
      ],
      "metadata": {
        "colab": {
          "base_uri": "https://localhost:8080/"
        },
        "id": "d6445if6PlyN",
        "outputId": "b65ab28c-1ab1-4663-93fb-6638604570d6"
      },
      "execution_count": 24,
      "outputs": [
        {
          "output_type": "stream",
          "name": "stdout",
          "text": [
            "22\n"
          ]
        }
      ]
    },
    {
      "cell_type": "markdown",
      "source": [
        "**25.  Write a code to check if the key \"city\" exists in the dictionary {'name': 'Alice', 'city': 'Paris'}.**"
      ],
      "metadata": {
        "id": "WgF_zg6hPmRY"
      }
    },
    {
      "cell_type": "code",
      "source": [
        "a={'name': 'Alice', 'city': 'Paris'}\n",
        "if \"city\" in a:\n",
        "  print(\"city exists\")"
      ],
      "metadata": {
        "colab": {
          "base_uri": "https://localhost:8080/"
        },
        "id": "drjaPGCNPvkI",
        "outputId": "b3877167-1f62-4414-ecce-b3fd641e54ae"
      },
      "execution_count": 25,
      "outputs": [
        {
          "output_type": "stream",
          "name": "stdout",
          "text": [
            "city exists\n"
          ]
        }
      ]
    },
    {
      "cell_type": "markdown",
      "source": [
        "**26.  Write a code to create a list, a tuple, and a dictionary, and print them all.**"
      ],
      "metadata": {
        "id": "pFiJSbBZPv3x"
      }
    },
    {
      "cell_type": "code",
      "source": [
        "my_list=[1,2,3]\n",
        "my_tuple=('a','b','c')\n",
        "my_dict={\"name\":\"Dona\",\"age\":22}\n",
        "print(my_list)\n",
        "print(my_tuple)\n",
        "print(my_dict)"
      ],
      "metadata": {
        "colab": {
          "base_uri": "https://localhost:8080/"
        },
        "id": "qGCK65zUP8Bp",
        "outputId": "c75683ed-0188-4244-b3c4-3023a92647fd"
      },
      "execution_count": 38,
      "outputs": [
        {
          "output_type": "stream",
          "name": "stdout",
          "text": [
            "[1, 2, 3]\n",
            "('a', 'b', 'c')\n",
            "{'name': 'Dona', 'age': 22}\n"
          ]
        }
      ]
    },
    {
      "cell_type": "markdown",
      "source": [
        "**27. Write a code to create a list of 5 random numbers between 1 and 100, sort it in ascending order, and print the\n",
        "result.(replaced)**"
      ],
      "metadata": {
        "id": "zNQEUdxFP8PG"
      }
    },
    {
      "cell_type": "code",
      "source": [
        "numbers=[55,7,52,16,28]\n",
        "numbers.sort()\n",
        "print(numbers)\n"
      ],
      "metadata": {
        "colab": {
          "base_uri": "https://localhost:8080/"
        },
        "id": "v7mKFOe9QGzG",
        "outputId": "08ff27c5-f548-456f-ae0e-a3c1b7c548d0"
      },
      "execution_count": 39,
      "outputs": [
        {
          "output_type": "stream",
          "name": "stdout",
          "text": [
            "[7, 16, 28, 52, 55]\n"
          ]
        }
      ]
    },
    {
      "cell_type": "markdown",
      "source": [
        "**28. Write a code to create a list with strings and print the element at the third index.**"
      ],
      "metadata": {
        "id": "uJSdgFfMQHCS"
      }
    },
    {
      "cell_type": "code",
      "source": [
        "days=['Monday','Tuesday','Wednesday','Thursday']\n",
        "print(days[3])"
      ],
      "metadata": {
        "colab": {
          "base_uri": "https://localhost:8080/"
        },
        "id": "2gHYrPK2QMaZ",
        "outputId": "695b470b-f9ae-44a3-8551-0ed7fa7c1030"
      },
      "execution_count": 27,
      "outputs": [
        {
          "output_type": "stream",
          "name": "stdout",
          "text": [
            "Thursday\n"
          ]
        }
      ]
    },
    {
      "cell_type": "markdown",
      "source": [
        "**29. Write a code to combine two dictionaries into one and print the result.**"
      ],
      "metadata": {
        "id": "J9KWnX48QMk8"
      }
    },
    {
      "cell_type": "code",
      "source": [
        "Dona_favorites={\"mango\":5, \"blueberry\":4}\n",
        "Rana_favorites={\"banana\":2, \"papaya\":5}\n",
        "combined_favorites={**Dona_favorites,**Rana_favorites}\n",
        "print(combined_favorites)\n",
        "\n"
      ],
      "metadata": {
        "colab": {
          "base_uri": "https://localhost:8080/"
        },
        "id": "DNduMqqKQR6z",
        "outputId": "5db48d83-a9e3-478e-dd1b-3ebdf2e0c4d9"
      },
      "execution_count": 40,
      "outputs": [
        {
          "output_type": "stream",
          "name": "stdout",
          "text": [
            "{'mango': 5, 'blueberry': 4, 'banana': 2, 'papaya': 5}\n"
          ]
        }
      ]
    },
    {
      "cell_type": "markdown",
      "source": [
        "**30.  Write a code to convert a list of strings into a set.**"
      ],
      "metadata": {
        "id": "mudq1R5kQSMp"
      }
    },
    {
      "cell_type": "code",
      "source": [
        "fruits=[\"apple\",\"banana\",\"guava\"]\n",
        "fruits_set=set(fruits)\n",
        "print(fruits_set)\n"
      ],
      "metadata": {
        "colab": {
          "base_uri": "https://localhost:8080/"
        },
        "id": "bZF8U-tSQZf9",
        "outputId": "822a4776-6105-4be5-a6ae-ec71571a8b11"
      },
      "execution_count": 26,
      "outputs": [
        {
          "output_type": "stream",
          "name": "stdout",
          "text": [
            "{'apple', 'guava', 'banana'}\n"
          ]
        }
      ]
    }
  ]
}